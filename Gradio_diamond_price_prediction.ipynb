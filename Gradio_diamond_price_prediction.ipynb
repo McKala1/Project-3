{
 "cells": [
  {
   "cell_type": "code",
   "execution_count": 1,
   "metadata": {},
   "outputs": [
    {
     "name": "stderr",
     "output_type": "stream",
     "text": [
      "/var/folders/5f/mw_xnd9x5tl4g49nsb64q_pw0000gn/T/ipykernel_78867/4136067729.py:18: DeprecationWarning: `import kerastuner` is deprecated, please use `import keras_tuner`.\n",
      "  from kerastuner import HyperModel\n"
     ]
    }
   ],
   "source": [
    "import pandas as pd \n",
    "import numpy as np\n",
    "import seaborn as sns\n",
    "import matplotlib.pyplot as plt\n",
    "import statsmodels.api as sm\n",
    "from statsmodels.formula.api import ols\n",
    "from sklearn.model_selection import train_test_split\n",
    "from sklearn.preprocessing import OneHotEncoder, LabelEncoder\n",
    "from sklearn.preprocessing import MinMaxScaler\n",
    "from sklearn.linear_model import LinearRegression, LogisticRegression\n",
    "from sklearn.neighbors import KNeighborsRegressor, KNeighborsClassifier\n",
    "from sklearn.tree import DecisionTreeClassifier\n",
    "from sklearn.ensemble import RandomForestClassifier, RandomForestRegressor, ExtraTreesRegressor, AdaBoostRegressor\n",
    "from sklearn.metrics import r2_score, mean_absolute_error\n",
    "from sklearn.model_selection import GridSearchCV\n",
    "import tensorflow as tf\n",
    "from tensorflow import keras\n",
    "from kerastuner import HyperModel\n",
    "from tensorflow.keras import backend as K\n",
    "import gradio as gr"
   ]
  },
  {
   "cell_type": "code",
   "execution_count": 2,
   "metadata": {},
   "outputs": [],
   "source": [
    "# Define R2 since not in keras and utilized in model\n",
    "\n",
    "def r_squared(y_true, y_pred):\n",
    "    y_true = tf.cast(y_true, tf.float32)\n",
    "    SS_res = K.sum(K.square(y_true - y_pred)) \n",
    "    SS_tot = K.sum(K.square(y_true - K.mean(y_true))) \n",
    "    return (1 - SS_res / (SS_tot + K.epsilon()))"
   ]
  },
  {
   "cell_type": "code",
   "execution_count": 3,
   "metadata": {},
   "outputs": [],
   "source": [
    "# Load in model \n",
    "model = keras.models.load_model('diamond_price_prediction_nn_model.keras', custom_objects={'r_squared': r_squared})"
   ]
  },
  {
   "cell_type": "code",
   "execution_count": 4,
   "metadata": {},
   "outputs": [],
   "source": [
    "# Manually create mappings based on how LabelEncoders were fit\n",
    "cut_map = {'Fair': 0, 'Good cut': 1, 'Very Good': 4, 'Premium': 3, 'Ideal': 2}\n",
    "color_map = {'D': 0, 'E': 1, 'F': 2, 'G': 3, 'H': 4, 'I': 5, 'J': 6}\n",
    "clarity_map = {'I1': 0, 'IF': 1, 'SI1': 2, 'SI2': 3, 'VS1': 4, 'VS2': 5, 'VVS1': 6, 'VVS2': 7}"
   ]
  },
  {
   "cell_type": "code",
   "execution_count": 5,
   "metadata": {},
   "outputs": [],
   "source": [
    "# Define the min and max values from scaling done in model development\n",
    "min_values = np.array([ 0.2, 0, 0, 0, 43, 43, 3.73, 3.68, 1.07])\n",
    "range_values = np.array([4.81, 4, 6, 7, 36, 52, 7.01, 55.2, 30.73]) "
   ]
  },
  {
   "cell_type": "code",
   "execution_count": 10,
   "metadata": {},
   "outputs": [],
   "source": [
    "# Define prediction function\n",
    "def predict(carat, cut, color, clarity, depth, table, x, y, z):\n",
    "    # Safely get values from maps with a default if missing\n",
    "    cut_encoded = cut_map.get(cut)\n",
    "    color_encoded = color_map.get(color)\n",
    "    clarity_encoded = clarity_map.get(clarity)\n",
    "\n",
    "    inputs = np.array([[carat, cut_encoded, color_encoded, clarity_encoded, depth, table, x, y, z]])\n",
    "    scaled_inputs = (inputs - min_values) / range_values\n",
    "    prediction = model.predict(scaled_inputs)\n",
    "    return prediction[0][0]"
   ]
  },
  {
   "cell_type": "code",
   "execution_count": 11,
   "metadata": {},
   "outputs": [
    {
     "name": "stdout",
     "output_type": "stream",
     "text": [
      "Running on local URL:  http://127.0.0.1:7862\n",
      "\n",
      "To create a public link, set `share=True` in `launch()`.\n"
     ]
    },
    {
     "data": {
      "text/html": [
       "<div><iframe src=\"http://127.0.0.1:7862/\" width=\"100%\" height=\"500\" allow=\"autoplay; camera; microphone; clipboard-read; clipboard-write;\" frameborder=\"0\" allowfullscreen></iframe></div>"
      ],
      "text/plain": [
       "<IPython.core.display.HTML object>"
      ]
     },
     "metadata": {},
     "output_type": "display_data"
    },
    {
     "data": {
      "text/plain": []
     },
     "execution_count": 11,
     "metadata": {},
     "output_type": "execute_result"
    },
    {
     "name": "stdout",
     "output_type": "stream",
     "text": [
      "\u001b[1m1/1\u001b[0m \u001b[32m━━━━━━━━━━━━━━━━━━━━\u001b[0m\u001b[37m\u001b[0m \u001b[1m0s\u001b[0m 51ms/step\n"
     ]
    }
   ],
   "source": [
    "iface = gr.Interface(\n",
    "    fn=predict,\n",
    "    inputs=[\n",
    "        gr.Number(label='carat', value=''),\n",
    "        gr.Dropdown(label=\"cut\", choices=list(cut_map.keys())),\n",
    "        gr.Dropdown(label=\"color\", choices=list(color_map.keys())),\n",
    "        gr.Dropdown(label=\"clarity\", choices=list(clarity_map.keys())),\n",
    "        gr.Number(label=\"depth\", value=''),\n",
    "        gr.Number(label=\"table\", value=''),\n",
    "        gr.Number(label=\"x\", value=''),\n",
    "        gr.Number(label=\"y\", value=''),\n",
    "        gr.Number(label=\"z\", value='')\n",
    "    ],\n",
    "    outputs=\"text\"\n",
    ")\n",
    "\n",
    "iface.launch()"
   ]
  },
  {
   "cell_type": "code",
   "execution_count": null,
   "metadata": {},
   "outputs": [],
   "source": []
  }
 ],
 "metadata": {
  "kernelspec": {
   "display_name": "dev",
   "language": "python",
   "name": "python3"
  },
  "language_info": {
   "codemirror_mode": {
    "name": "ipython",
    "version": 3
   },
   "file_extension": ".py",
   "mimetype": "text/x-python",
   "name": "python",
   "nbconvert_exporter": "python",
   "pygments_lexer": "ipython3",
   "version": "3.10.13"
  }
 },
 "nbformat": 4,
 "nbformat_minor": 2
}
